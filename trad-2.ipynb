{
 "cells": [
  {
   "cell_type": "code",
   "execution_count": 20,
   "metadata": {
    "collapsed": true
   },
   "outputs": [],
   "source": [
    "import pandas as pd\n",
    "from sklearn.preprocessing import StandardScaler\n",
    "from sklearn.model_selection import train_test_split\n",
    "from scipy import stats\n",
    "from sklearn.linear_model import LinearRegression\n",
    "from sklearn.neighbors import KNeighborsRegressor\n",
    "from sklearn.svm import SVR\n",
    "from sklearn.linear_model import Lasso\n",
    "from sklearn.linear_model import Ridge\n",
    "from sklearn.neural_network import MLPRegressor\n",
    "from sklearn.tree import DecisionTreeRegressor\n",
    "from sklearn.tree import ExtraTreeRegressor\n",
    "from xgboost import XGBRegressor\n",
    "from sklearn.ensemble import RandomForestRegressor\n",
    "from sklearn.ensemble import AdaBoostRegressor\n",
    "from sklearn.ensemble import GradientBoostingRegressor\n",
    "from sklearn.ensemble import BaggingRegressor\n",
    "import warnings\n",
    "warnings.simplefilter(action='ignore', category=FutureWarning)\n",
    "\n",
    "data = pd.read_csv(r\"D:\\DL_Homework\\Kaggle2_Titanic\\统计建模\\数据\\data-3.csv\", encoding='gb18030')\n",
    "data['date'] = pd.to_datetime(data['date'])\n",
    " # 添加年、月、日列\n",
    "data['year'] = data['date'].dt.year\n",
    "data['month'] = data['date'].dt.month\n",
    "data['day'] = data['date'].dt.day\n",
    "# print(data.head())\n",
    "cols_to_convert = ['AQI指数', 'PM2.5', 'PM10', 'O3', 'no2', 'so2', 'co', 'T', 'Po', 'U', 'Ff', 'VV', 'RRR', 'year', 'month', 'day']\n",
    "data[cols_to_convert] = data[cols_to_convert].astype(float)\n",
    "y = data['AQI指数']\n",
    "x = data.drop(['AQI指数','date'], axis=1)\n",
    " # 进行BOX-COX变换\n",
    "y = stats.boxcox(y)[0]\n",
    " # 数据标准化\n",
    "scaler = StandardScaler()\n",
    "x = scaler.fit_transform(x)\n",
    "\n",
    "X_train, X_test, y_train, y_test = train_test_split(x, y, test_size = 0.25, random_state = 33)\n",
    "\n",
    "models = [LinearRegression(), KNeighborsRegressor(), SVR(), Ridge(), Lasso(), MLPRegressor(alpha=20),\n",
    "          DecisionTreeRegressor(), ExtraTreeRegressor(), XGBRegressor(), RandomForestRegressor(), AdaBoostRegressor(),\n",
    "          GradientBoostingRegressor(), BaggingRegressor()]\n",
    "models_str = ['LinearRegression', 'KNNRegressor', 'SVR', 'Ridge', 'Lasso', 'MLPRegressor', 'DecisionTree', 'ExtraTree',\n",
    "              'XGBoost', 'RandomForest', 'AdaBoost', 'GradientBoost', 'Bagging']"
   ]
  },
  {
   "cell_type": "code",
   "execution_count": 21,
   "outputs": [
    {
     "name": "stderr",
     "output_type": "stream",
     "text": [
      "D:\\DL_Homework\\Kaggle2_Titanic\\Project_Titanic\\venv\\lib\\site-packages\\sklearn\\neural_network\\_multilayer_perceptron.py:702: ConvergenceWarning: Stochastic Optimizer: Maximum iterations (200) reached and the optimization hasn't converged yet.\n",
      "  warnings.warn(\n"
     ]
    },
    {
     "name": "stdout",
     "output_type": "stream",
     "text": [
      "[14:57:51] WARNING: C:/Jenkins/workspace/xgboost-win64_release_0.90/src/objective/regression_obj.cu:152: reg:linear is now deprecated in favor of reg:squarederror.\n",
      "               Model       MSE      RMSE       MAE        R2      MAPE\n",
      "0   LinearRegression  0.125706  0.354551  0.271412  0.537156  0.055091\n",
      "1       KNNRegressor  0.127142  0.356570  0.266951  0.531870  0.054286\n",
      "2                SVR  0.113566  0.336996  0.247206  0.581855  0.050276\n",
      "3              Ridge  0.125705  0.354549  0.271415  0.537160  0.055092\n",
      "4              Lasso  0.271835  0.521378  0.426310 -0.000885  0.087252\n",
      "5       MLPRegressor  0.126547  0.355735  0.272921  0.534058  0.055364\n",
      "6       DecisionTree  0.215845  0.464591  0.343543  0.205269  0.069930\n",
      "7          ExtraTree  0.229406  0.478963  0.368738  0.155338  0.074955\n",
      "8            XGBoost  0.109909  0.331525  0.250050  0.595322  0.050896\n",
      "9       RandomForest  0.105770  0.325223  0.241481  0.610560  0.048987\n",
      "10          AdaBoost  0.134114  0.366215  0.286649  0.506200  0.058835\n",
      "11     GradientBoost  0.108576  0.329509  0.248368  0.600228  0.050592\n",
      "12           Bagging  0.118854  0.344753  0.258764  0.562384  0.052467\n"
     ]
    }
   ],
   "source": [
    "import pandas as pd\n",
    "from sklearn.metrics import mean_squared_error\n",
    "from sklearn.metrics import mean_absolute_error\n",
    "from sklearn.metrics import r2_score\n",
    "from sklearn.preprocessing import MinMaxScaler\n",
    "import numpy as np\n",
    "def mean_absolute_percentage_error(y_true, y_pred):\n",
    "    return np.mean(np.abs((y_true - y_pred) / y_true))\n",
    " # 创建一个空的DataFrame\n",
    "df_model_eval = pd.DataFrame(columns=['Model', 'MSE', 'RMSE', 'MAE', 'R2', 'MAPE'])\n",
    " # 循环遍历所有模型，并记录评估结果\n",
    "for name, model in zip(models_str, models):\n",
    "    model = model\n",
    "    model.fit(X_train, y_train)\n",
    "    y_pred = model.predict(X_test)\n",
    "    MSE = mean_squared_error(y_test,y_pred)\n",
    "    RMSE = np.sqrt(mean_squared_error(y_test,y_pred))\n",
    "    MAE = mean_absolute_error(y_test,y_pred)\n",
    "    R2 = r2_score(y_test,y_pred)\n",
    "    MAPE = mean_absolute_percentage_error(y_test,y_pred)\n",
    "    df_model_eval = df_model_eval.append({'Model': name,\n",
    "                                          'MSE': MSE,\n",
    "                                          'RMSE': RMSE,\n",
    "                                          'MAE': MAE,\n",
    "                                          'R2': R2,\n",
    "                                          'MAPE': MAPE},\n",
    "                                         ignore_index=True)\n",
    " # 输出表格\n",
    "print(df_model_eval)"
   ],
   "metadata": {
    "collapsed": false
   }
  },
  {
   "cell_type": "code",
   "execution_count": 22,
   "outputs": [],
   "source": [
    "df_model_eval.to_csv('model_eval-3.csv')"
   ],
   "metadata": {
    "collapsed": false
   }
  },
  {
   "cell_type": "code",
   "execution_count": null,
   "outputs": [],
   "source": [],
   "metadata": {
    "collapsed": false
   }
  }
 ],
 "metadata": {
  "kernelspec": {
   "display_name": "Python 3",
   "language": "python",
   "name": "python3"
  },
  "language_info": {
   "codemirror_mode": {
    "name": "ipython",
    "version": 2
   },
   "file_extension": ".py",
   "mimetype": "text/x-python",
   "name": "python",
   "nbconvert_exporter": "python",
   "pygments_lexer": "ipython2",
   "version": "2.7.6"
  }
 },
 "nbformat": 4,
 "nbformat_minor": 0
}
