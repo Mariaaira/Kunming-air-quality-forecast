{
 "cells": [
  {
   "cell_type": "code",
   "execution_count": 7,
   "metadata": {
    "collapsed": true
   },
   "outputs": [],
   "source": [
    "import pandas as pd\n",
    "from sklearn.preprocessing import StandardScaler\n",
    "from sklearn.model_selection import train_test_split\n",
    "from scipy import stats\n",
    "from sklearn.linear_model import LinearRegression\n",
    "from sklearn.neighbors import KNeighborsRegressor\n",
    "from sklearn.svm import SVR\n",
    "from sklearn.linear_model import Lasso\n",
    "from sklearn.linear_model import Ridge\n",
    "from sklearn.neural_network import MLPRegressor\n",
    "from sklearn.tree import DecisionTreeRegressor\n",
    "from sklearn.tree import ExtraTreeRegressor\n",
    "from xgboost import XGBRegressor\n",
    "from sklearn.ensemble import RandomForestRegressor\n",
    "from sklearn.ensemble import AdaBoostRegressor\n",
    "from sklearn.ensemble import GradientBoostingRegressor\n",
    "from sklearn.ensemble import BaggingRegressor\n",
    "import warnings\n",
    "warnings.simplefilter(action='ignore', category=FutureWarning)\n",
    "\n",
    "data = pd.read_csv(r\"D:\\DL_Homework\\Kaggle2_Titanic\\统计建模\\数据\\data-1.csv\", encoding='gb18030')\n",
    "data['date'] = pd.to_datetime(data['date'])\n",
    " # 添加年、月、日列\n",
    "data['year'] = data['date'].dt.year\n",
    "data['month'] = data['date'].dt.month\n",
    "data['day'] = data['date'].dt.day\n",
    "# print(data.head())\n",
    "cols_to_convert = ['AQI指数', 'PM2.5', 'PM10', 'O3', 'no2', 'so2', 'co', 'T', 'Po', 'U', 'Ff', 'VV', 'RRR', 'year', 'month', 'day']\n",
    "data[cols_to_convert] = data[cols_to_convert].astype(float)\n",
    "y = data['AQI指数']\n",
    "x = data.drop(['AQI指数','date'], axis=1)\n",
    " # 进行BOX-COX变换\n",
    "y = stats.boxcox(y)[0]\n",
    " # 数据标准化\n",
    "scaler = StandardScaler()\n",
    "x = scaler.fit_transform(x)\n",
    "\n",
    "X_train, X_test, y_train, y_test = train_test_split(x, y, test_size = 0.25, random_state = 33)\n",
    "\n",
    "models = [LinearRegression(), KNeighborsRegressor(), SVR(), Ridge(), Lasso(), MLPRegressor(alpha=20),\n",
    "          DecisionTreeRegressor(), ExtraTreeRegressor(), XGBRegressor(), RandomForestRegressor(), AdaBoostRegressor(),\n",
    "          GradientBoostingRegressor(), BaggingRegressor()]\n",
    "models_str = ['LinearRegression', 'KNNRegressor', 'SVR', 'Ridge', 'Lasso', 'MLPRegressor', 'DecisionTree', 'ExtraTree',\n",
    "              'XGBoost', 'RandomForest', 'AdaBoost', 'GradientBoost', 'Bagging']"
   ]
  },
  {
   "cell_type": "code",
   "execution_count": 8,
   "outputs": [
    {
     "name": "stderr",
     "output_type": "stream",
     "text": [
      "D:\\DL_Homework\\Kaggle2_Titanic\\Project_Titanic\\venv\\lib\\site-packages\\sklearn\\neural_network\\_multilayer_perceptron.py:702: ConvergenceWarning: Stochastic Optimizer: Maximum iterations (200) reached and the optimization hasn't converged yet.\n",
      "  warnings.warn(\n"
     ]
    },
    {
     "name": "stdout",
     "output_type": "stream",
     "text": [
      "[11:54:05] WARNING: C:/Jenkins/workspace/xgboost-win64_release_0.90/src/objective/regression_obj.cu:152: reg:linear is now deprecated in favor of reg:squarederror.\n",
      "               Model       MSE      RMSE       MAE        R2      MAPE\n",
      "0   LinearRegression  0.125142  0.353754  0.270673  0.539234  0.054941\n",
      "1       KNNRegressor  0.127143  0.356571  0.266585  0.531866  0.054226\n",
      "2                SVR  0.113104  0.336309  0.246365  0.583557  0.050115\n",
      "3              Ridge  0.125141  0.353753  0.270675  0.539235  0.054942\n",
      "4              Lasso  0.271835  0.521378  0.426310 -0.000885  0.087252\n",
      "5       MLPRegressor  0.125715  0.354564  0.270763  0.537122  0.054806\n",
      "6       DecisionTree  0.211793  0.460210  0.345810  0.220188  0.070441\n",
      "7          ExtraTree  0.229420  0.478978  0.370163  0.155286  0.075074\n",
      "8            XGBoost  0.109547  0.330978  0.248391  0.596654  0.050555\n",
      "9       RandomForest  0.105856  0.325355  0.240895  0.610244  0.048919\n",
      "10          AdaBoost  0.132823  0.364449  0.287234  0.510951  0.059125\n",
      "11     GradientBoost  0.108567  0.329495  0.247916  0.600261  0.050490\n",
      "12           Bagging  0.116701  0.341616  0.253371  0.570311  0.051460\n"
     ]
    }
   ],
   "source": [
    "import pandas as pd\n",
    "from sklearn.metrics import mean_squared_error\n",
    "from sklearn.metrics import mean_absolute_error\n",
    "from sklearn.metrics import r2_score\n",
    "from sklearn.preprocessing import MinMaxScaler\n",
    "import numpy as np\n",
    "def mean_absolute_percentage_error(y_true, y_pred):\n",
    "    return np.mean(np.abs((y_true - y_pred) / y_true))\n",
    " # 创建一个空的DataFrame\n",
    "df_model_eval = pd.DataFrame(columns=['Model', 'MSE', 'RMSE', 'MAE', 'R2', 'MAPE'])\n",
    " # 循环遍历所有模型，并记录评估结果\n",
    "for name, model in zip(models_str, models):\n",
    "    model = model\n",
    "    model.fit(X_train, y_train)\n",
    "    y_pred = model.predict(X_test)\n",
    "    MSE = mean_squared_error(y_test,y_pred)\n",
    "    RMSE = np.sqrt(mean_squared_error(y_test,y_pred))\n",
    "    MAE = mean_absolute_error(y_test,y_pred)\n",
    "    R2 = r2_score(y_test,y_pred)\n",
    "    MAPE = mean_absolute_percentage_error(y_test,y_pred)\n",
    "    df_model_eval = df_model_eval.append({'Model': name,\n",
    "                                          'MSE': MSE,\n",
    "                                          'RMSE': RMSE,\n",
    "                                          'MAE': MAE,\n",
    "                                          'R2': R2,\n",
    "                                          'MAPE': MAPE},\n",
    "                                         ignore_index=True)\n",
    " # 输出表格\n",
    "print(df_model_eval)"
   ],
   "metadata": {
    "collapsed": false
   }
  },
  {
   "cell_type": "code",
   "execution_count": 22,
   "outputs": [],
   "source": [
    "df_model_eval.to_csv('model_eval-1.csv')"
   ],
   "metadata": {
    "collapsed": false
   }
  },
  {
   "cell_type": "code",
   "execution_count": null,
   "outputs": [],
   "source": [],
   "metadata": {
    "collapsed": false
   }
  }
 ],
 "metadata": {
  "kernelspec": {
   "display_name": "Python 3",
   "language": "python",
   "name": "python3"
  },
  "language_info": {
   "codemirror_mode": {
    "name": "ipython",
    "version": 2
   },
   "file_extension": ".py",
   "mimetype": "text/x-python",
   "name": "python",
   "nbconvert_exporter": "python",
   "pygments_lexer": "ipython2",
   "version": "2.7.6"
  }
 },
 "nbformat": 4,
 "nbformat_minor": 0
}
