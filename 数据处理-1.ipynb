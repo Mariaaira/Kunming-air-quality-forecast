{
 "cells": [
  {
   "cell_type": "code",
   "execution_count": 9,
   "metadata": {
    "collapsed": true
   },
   "outputs": [
    {
     "name": "stderr",
     "output_type": "stream",
     "text": [
      "C:\\Users\\Administrator\\AppData\\Local\\Temp\\ipykernel_9716\\1092814374.py:20: SettingWithCopyWarning: \n",
      "A value is trying to be set on a copy of a slice from a DataFrame\n",
      "\n",
      "See the caveats in the documentation: https://pandas.pydata.org/pandas-docs/stable/user_guide/indexing.html#returning-a-view-versus-a-copy\n",
      "  c[(c>=(a-b)*1.5+a)|(c<=b-(a-b)*1.5)]=np.nan\n"
     ]
    }
   ],
   "source": [
    "import pandas as pd\n",
    "import numpy as np\n",
    " # 读取数据\n",
    "df = pd.read_csv(r\"D:\\DL_Homework\\Kaggle2_Titanic\\统计建模\\数据\\空值填补后数据集.csv\", encoding='gb18030')\n",
    " # 将 'date' 列转换为日期时间格式\n",
    "df['date'] = pd.to_datetime(df['date'])\n",
    " # 添加年、月、日列\n",
    "df['year'] = df['date'].dt.year\n",
    "df['month'] = df['date'].dt.month\n",
    "df['day'] = df['date'].dt.day\n",
    "# 将除‘RRR’以外的异常值替换为空值\n",
    "data = df\n",
    "columns = ['date', 'PM2.5', 'PM10', 'O3', 'no2', 'so2', 'co', 'T', 'Po', 'U', 'Ff', 'VV', 'year', 'month', 'day']\n",
    "for column in columns:\n",
    "    # if column != 'AQI指数' and column != 'RRR':\n",
    "    #     data[column] = np.where(np.logical_or(data[column] < data[column].quantile(0.01), data[column] > data[column].quantile(0.99)), np.nan, data[column])\n",
    "    a = data[column].quantile(0.75)\n",
    "    b = data[column].quantile(0.25)\n",
    "    c = data[column]\n",
    "    c[(c>=(a-b)*1.5+a)|(c<=b-(a-b)*1.5)]=np.nan\n"
   ]
  },
  {
   "cell_type": "code",
   "execution_count": 10,
   "outputs": [
    {
     "data": {
      "text/plain": "date      0\nAQI指数     0\nPM2.5    15\nPM10     19\nO3       90\nno2      30\nso2      72\nco       60\nT        25\nPo        9\nU         0\nFf       30\nVV        0\nRRR       0\nyear      0\nmonth     0\nday       0\ndtype: int64"
     },
     "execution_count": 10,
     "metadata": {},
     "output_type": "execute_result"
    }
   ],
   "source": [
    "data.isnull().sum()"
   ],
   "metadata": {
    "collapsed": false
   }
  },
  {
   "cell_type": "code",
   "execution_count": 11,
   "outputs": [
    {
     "name": "stdout",
     "output_type": "stream",
     "text": [
      "        date  AQI指数  PM2.5  PM10    O3   no2   so2   co     T     Po   U   Ff  \\\n",
      "0 2015-05-17     50  105.0  41.0  36.0  10.0   NaN  8.0  25.6  603.9  38  5.0   \n",
      "1 2015-05-18     35   80.0  40.0  33.0   9.0   NaN  8.0  25.9  604.8  40  3.0   \n",
      "2 2015-05-19     30   79.0  41.0  45.0  11.0  10.0  9.0  23.8  603.9  53  4.0   \n",
      "3 2015-05-20     51   86.0  27.0  26.0  13.0   6.0  9.0  21.3  605.1  76  2.0   \n",
      "4 2015-05-21     62   86.0  27.0  27.0   9.0   7.0  8.0  19.1  605.7  91  1.0   \n",
      "\n",
      "     VV  RRR  year  month  day  \n",
      "0  24.0  0.0  2015      5   17  \n",
      "1  26.0  0.0  2015      5   18  \n",
      "2  24.0  0.0  2015      5   19  \n",
      "3  14.0  0.0  2015      5   20  \n",
      "4  24.0  4.0  2015      5   21  \n"
     ]
    },
    {
     "name": "stderr",
     "output_type": "stream",
     "text": [
      "C:\\Users\\Administrator\\AppData\\Local\\Temp\\ipykernel_9716\\3528422099.py:2: FutureWarning: Dropping of nuisance columns in rolling operations is deprecated; in a future version this will raise TypeError. Select only valid columns before calling the operation. Dropped columns were Index(['date'], dtype='object')\n",
      "  data.fillna(data.shift().rolling(3, min_periods=1).mean(), inplace=True)\n"
     ]
    }
   ],
   "source": [
    "# 将空值替换为前后两条数据的平均值\n",
    "data.fillna(data.shift().rolling(3, min_periods=1).mean(), inplace=True)\n",
    " # 输出处理后的数据集\n",
    "print(data.head())"
   ],
   "metadata": {
    "collapsed": false
   }
  },
  {
   "cell_type": "code",
   "execution_count": 12,
   "outputs": [
    {
     "data": {
      "text/plain": "date      0\nAQI指数     0\nPM2.5     1\nPM10      2\nO3       10\nno2       1\nso2       3\nco       25\nT         1\nPo        0\nU         0\nFf        0\nVV        0\nRRR       0\nyear      0\nmonth     0\nday       0\ndtype: int64"
     },
     "execution_count": 12,
     "metadata": {},
     "output_type": "execute_result"
    }
   ],
   "source": [
    "data.isnull().sum()"
   ],
   "metadata": {
    "collapsed": false
   }
  },
  {
   "cell_type": "code",
   "execution_count": 13,
   "outputs": [
    {
     "data": {
      "text/plain": "5.47506334945865"
     },
     "execution_count": 13,
     "metadata": {},
     "output_type": "execute_result"
    }
   ],
   "source": [
    "np.mean(data['co'])\n",
    "np.mean(data['so2'])"
   ],
   "metadata": {
    "collapsed": false
   }
  },
  {
   "cell_type": "code",
   "execution_count": 16,
   "outputs": [],
   "source": [
    "data['co'].fillna(np.mean(data['co']), inplace=True)\n",
    "data['so2'].fillna(np.mean(data['so2']), inplace=True)\n",
    "data['PM2.5'].fillna(np.mean(data['so2']), inplace=True)\n",
    "data['PM10'].fillna(np.mean(data['so2']), inplace=True)\n",
    "data['O3'].fillna(np.mean(data['so2']), inplace=True)\n",
    "data['no2'].fillna(np.mean(data['so2']), inplace=True)\n",
    "data['T'].fillna(np.mean(data['so2']), inplace=True)"
   ],
   "metadata": {
    "collapsed": false
   }
  },
  {
   "cell_type": "code",
   "execution_count": 17,
   "outputs": [
    {
     "data": {
      "text/plain": "date     0\nAQI指数    0\nPM2.5    0\nPM10     0\nO3       0\nno2      0\nso2      0\nco       0\nT        0\nPo       0\nU        0\nFf       0\nVV       0\nRRR      0\nyear     0\nmonth    0\nday      0\ndtype: int64"
     },
     "execution_count": 17,
     "metadata": {},
     "output_type": "execute_result"
    }
   ],
   "source": [
    "data.isnull().sum()"
   ],
   "metadata": {
    "collapsed": false
   }
  },
  {
   "cell_type": "code",
   "execution_count": 19,
   "outputs": [],
   "source": [
    "data.to_csv(\"data-3.csv\")"
   ],
   "metadata": {
    "collapsed": false
   }
  },
  {
   "cell_type": "code",
   "execution_count": null,
   "outputs": [],
   "source": [],
   "metadata": {
    "collapsed": false
   }
  }
 ],
 "metadata": {
  "kernelspec": {
   "display_name": "Python 3",
   "language": "python",
   "name": "python3"
  },
  "language_info": {
   "codemirror_mode": {
    "name": "ipython",
    "version": 2
   },
   "file_extension": ".py",
   "mimetype": "text/x-python",
   "name": "python",
   "nbconvert_exporter": "python",
   "pygments_lexer": "ipython2",
   "version": "2.7.6"
  }
 },
 "nbformat": 4,
 "nbformat_minor": 0
}
